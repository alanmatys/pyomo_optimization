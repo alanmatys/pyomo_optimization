{
 "cells": [
  {
   "cell_type": "markdown",
   "metadata": {
    "id": "1pi-zJ8WZa9O"
   },
   "source": [
    "Welcome to coding in Google Colab! Before using this environment to building and running our optimization models, we need to install some packages. \n",
    "\n",
    "Note: This install has to be done each time you start this Colab session fresh. "
   ]
  },
  {
   "cell_type": "code",
   "execution_count": 1,
   "metadata": {
    "colab": {
     "base_uri": "https://localhost:8080/"
    },
    "executionInfo": {
     "elapsed": 20664,
     "status": "ok",
     "timestamp": 1623647216403,
     "user": {
      "displayName": "Sanjula Kammammettu",
      "photoUrl": "https://lh3.googleusercontent.com/a-/AOh14GhmhfBZAvyfElb-m6c0xTZ9G1AjiRn4bq9-bJHT=s64",
      "userId": "15899802441883618062"
     },
     "user_tz": 360
    },
    "id": "VRjoLz07ZrvW",
    "outputId": "8da8e3d8-521c-4231-d32c-a4721496b371"
   },
   "outputs": [
    {
     "name": "stdout",
     "output_type": "stream",
     "text": [
      "Collecting pyomo\n",
      "\u001b[?25l  Downloading https://files.pythonhosted.org/packages/ea/6d/cc720655b86ead89170910a884533294f8b0ae2e959544421e96806ca4cf/Pyomo-6.0.1-cp37-cp37m-manylinux_2_5_x86_64.manylinux1_x86_64.manylinux_2_12_x86_64.manylinux2010_x86_64.whl (8.9MB)\n",
      "\u001b[K     |████████████████████████████████| 8.9MB 5.1MB/s \n",
      "\u001b[?25hCollecting ply\n",
      "\u001b[?25l  Downloading https://files.pythonhosted.org/packages/a3/58/35da89ee790598a0700ea49b2a66594140f44dec458c07e8e3d4979137fc/ply-3.11-py2.py3-none-any.whl (49kB)\n",
      "\u001b[K     |████████████████████████████████| 51kB 5.3MB/s \n",
      "\u001b[?25hInstalling collected packages: ply, pyomo\n",
      "Successfully installed ply-3.11 pyomo-6.0.1\n",
      "Selecting previously unselected package libsuitesparseconfig5:amd64.\n",
      "(Reading database ... 160772 files and directories currently installed.)\n",
      "Preparing to unpack .../libsuitesparseconfig5_1%3a5.1.2-2_amd64.deb ...\n",
      "Unpacking libsuitesparseconfig5:amd64 (1:5.1.2-2) ...\n",
      "Selecting previously unselected package libamd2:amd64.\n",
      "Preparing to unpack .../libamd2_1%3a5.1.2-2_amd64.deb ...\n",
      "Unpacking libamd2:amd64 (1:5.1.2-2) ...\n",
      "Selecting previously unselected package libcolamd2:amd64.\n",
      "Preparing to unpack .../libcolamd2_1%3a5.1.2-2_amd64.deb ...\n",
      "Unpacking libcolamd2:amd64 (1:5.1.2-2) ...\n",
      "Selecting previously unselected package libglpk40:amd64.\n",
      "Preparing to unpack .../libglpk40_4.65-1_amd64.deb ...\n",
      "Unpacking libglpk40:amd64 (4.65-1) ...\n",
      "Selecting previously unselected package glpk-utils.\n",
      "Preparing to unpack .../glpk-utils_4.65-1_amd64.deb ...\n",
      "Unpacking glpk-utils (4.65-1) ...\n",
      "Setting up libsuitesparseconfig5:amd64 (1:5.1.2-2) ...\n",
      "Setting up libcolamd2:amd64 (1:5.1.2-2) ...\n",
      "Setting up libamd2:amd64 (1:5.1.2-2) ...\n",
      "Setting up libglpk40:amd64 (4.65-1) ...\n",
      "Setting up glpk-utils (4.65-1) ...\n",
      "Processing triggers for libc-bin (2.27-3ubuntu1.2) ...\n",
      "/sbin/ldconfig.real: /usr/local/lib/python3.7/dist-packages/ideep4py/lib/libmkldnn.so.0 is not a symbolic link\n",
      "\n",
      "Processing triggers for man-db (2.8.3-2ubuntu0.1) ...\n"
     ]
    }
   ],
   "source": [
    "!pip install pyomo\n",
    "!apt-get install -y -qq glpk-utils\n",
    "import pyomo.environ as pyomo"
   ]
  },
  {
   "cell_type": "markdown",
   "metadata": {
    "id": "PGoB02Gwan5b"
   },
   "source": [
    "# Example 1 - The Dorian auto advertisement campaign"
   ]
  },
  {
   "cell_type": "code",
   "execution_count": 2,
   "metadata": {
    "colab": {
     "base_uri": "https://localhost:8080/"
    },
    "executionInfo": {
     "elapsed": 278,
     "status": "ok",
     "timestamp": 1623647216660,
     "user": {
      "displayName": "Sanjula Kammammettu",
      "photoUrl": "https://lh3.googleusercontent.com/a-/AOh14GhmhfBZAvyfElb-m6c0xTZ9G1AjiRn4bq9-bJHT=s64",
      "userId": "15899802441883618062"
     },
     "user_tz": 360
    },
    "id": "RcYbYbyMatcF",
    "outputId": "efda5f52-34fa-4473-e034-67c198d1f7b2"
   },
   "outputs": [
    {
     "name": "stdout",
     "output_type": "stream",
     "text": [
      "# ==========================================================\n",
      "# = Solver Results                                         =\n",
      "# ==========================================================\n",
      "# ----------------------------------------------------------\n",
      "#   Problem Information\n",
      "# ----------------------------------------------------------\n",
      "Problem: \n",
      "- Name: unknown\n",
      "  Lower bound: 320.0\n",
      "  Upper bound: 320.0\n",
      "  Number of objectives: 1\n",
      "  Number of constraints: 3\n",
      "  Number of variables: 3\n",
      "  Number of nonzeros: 5\n",
      "  Sense: minimize\n",
      "# ----------------------------------------------------------\n",
      "#   Solver Information\n",
      "# ----------------------------------------------------------\n",
      "Solver: \n",
      "- Status: ok\n",
      "  Termination condition: optimal\n",
      "  Statistics: \n",
      "    Branch and bound: \n",
      "      Number of bounded subproblems: 0\n",
      "      Number of created subproblems: 0\n",
      "  Error rc: 0\n",
      "  Time: 0.014813661575317383\n",
      "# ----------------------------------------------------------\n",
      "#   Solution Information\n",
      "# ----------------------------------------------------------\n",
      "Solution: \n",
      "- number of solutions: 0\n",
      "  number of solutions displayed: 0\n",
      "\n",
      " RESULTS \n",
      "\n",
      "Cost of advertisement campaign =  320.0\n",
      "Number of comedy ads purchased =  3.6\n",
      "Number of football ads purchased =  1.4\n"
     ]
    }
   ],
   "source": [
    "# Model definition - must be done at the beginning!\n",
    "model = pyomo.ConcreteModel();\n",
    "\n",
    "#Variable declaration\n",
    "model.x1 = pyomo.Var(); # Number of comedy ads purchased\n",
    "model.x2 = pyomo.Var(); # Number of football ads purchased\n",
    "\n",
    "# Objective function definition\n",
    "model.obj = pyomo.Objective(expr = 50*model.x1 + 100*model.x2, sense = pyomo.minimize);\n",
    "\n",
    "#Constraint definition\n",
    "def rule1(model):\n",
    "    return 7*model.x1 + 2*model.x2 >= 28\n",
    "model.eq1 = pyomo.Constraint(rule = rule1, doc = 'Constraint 1');\n",
    "\n",
    "def rule2(model):\n",
    "    return 2*model.x1 + 12*model.x2 >= 24\n",
    "model.eq2 = pyomo.Constraint(rule = rule2, doc = 'Constraint 2');\n",
    "\n",
    "# Solver options\n",
    "# When running in Colab, add the PATH for the solver executable file\n",
    "results = pyomo.SolverFactory('glpk',executable='/usr/bin/glpsol').solve(model);\n",
    "\n",
    "# Printing results\n",
    "results.write()\n",
    "print(\"\\n RESULTS \\n\");\n",
    "print(\"Cost of advertisement campaign = \",model.obj());\n",
    "print(\"Number of comedy ads purchased = \",model.x1());\n",
    "print(\"Number of football ads purchased = \",model.x2());"
   ]
  },
  {
   "cell_type": "markdown",
   "metadata": {
    "id": "FH_xRuelinRR"
   },
   "source": [
    "# Example 2 - Post office workers scheduling"
   ]
  },
  {
   "cell_type": "code",
   "execution_count": 3,
   "metadata": {
    "colab": {
     "base_uri": "https://localhost:8080/"
    },
    "executionInfo": {
     "elapsed": 15,
     "status": "ok",
     "timestamp": 1623647216662,
     "user": {
      "displayName": "Sanjula Kammammettu",
      "photoUrl": "https://lh3.googleusercontent.com/a-/AOh14GhmhfBZAvyfElb-m6c0xTZ9G1AjiRn4bq9-bJHT=s64",
      "userId": "15899802441883618062"
     },
     "user_tz": 360
    },
    "id": "W0p3GUR5iqfD",
    "outputId": "52bd8867-6817-4fa6-8795-44da4379f978"
   },
   "outputs": [
    {
     "name": "stdout",
     "output_type": "stream",
     "text": [
      "# ==========================================================\n",
      "# = Solver Results                                         =\n",
      "# ==========================================================\n",
      "# ----------------------------------------------------------\n",
      "#   Problem Information\n",
      "# ----------------------------------------------------------\n",
      "Problem: \n",
      "- Name: unknown\n",
      "  Lower bound: 22.3333333333333\n",
      "  Upper bound: 22.3333333333333\n",
      "  Number of objectives: 1\n",
      "  Number of constraints: 15\n",
      "  Number of variables: 8\n",
      "  Number of nonzeros: 43\n",
      "  Sense: minimize\n",
      "# ----------------------------------------------------------\n",
      "#   Solver Information\n",
      "# ----------------------------------------------------------\n",
      "Solver: \n",
      "- Status: ok\n",
      "  Termination condition: optimal\n",
      "  Statistics: \n",
      "    Branch and bound: \n",
      "      Number of bounded subproblems: 0\n",
      "      Number of created subproblems: 0\n",
      "  Error rc: 0\n",
      "  Time: 0.01472783088684082\n",
      "# ----------------------------------------------------------\n",
      "#   Solution Information\n",
      "# ----------------------------------------------------------\n",
      "Solution: \n",
      "- number of solutions: 0\n",
      "  number of solutions displayed: 0\n",
      "\n",
      " RESULTS \n",
      "\n",
      "Optimal number of workers =  22.33333333333332\n",
      "Number of workers starting on Monday 6.33333333333333\n",
      "Number of workers starting on Tuesday 3.33333333333333\n",
      "Number of workers starting on Wednesday 2.0\n",
      "Number of workers starting on Thursday 7.33333333333333\n",
      "Number of workers starting on Friday 0.0\n",
      "Number of workers starting on Saturday 3.33333333333333\n",
      "Number of workers starting on Sunday 0.0\n"
     ]
    }
   ],
   "source": [
    "# Model definition\n",
    "model = pyomo.ConcreteModel();\n",
    "\n",
    "# Variable definition\n",
    "model.x1 = pyomo.Var();\n",
    "model.x2 = pyomo.Var();\n",
    "model.x3 = pyomo.Var();\n",
    "model.x4 = pyomo.Var();\n",
    "model.x5 = pyomo.Var();\n",
    "model.x6 = pyomo.Var();\n",
    "model.x7 = pyomo.Var();\n",
    "\n",
    "# Objective function definition\n",
    "model.obj = pyomo.Objective(expr = model.x1 + model.x2 + model.x3 +\n",
    "                            model.x4 + model.x5 + model.x6 + model.x7, sense = pyomo.minimize);\n",
    "\n",
    "# Constraint definition\n",
    "def rule1(model):\n",
    "  return model.x1 + model.x4 + model.x5 + model.x6 + model.x7 >= 17\n",
    "model.eq1 = pyomo.Constraint(rule = rule1, doc = 'Monday requirement');\n",
    "\n",
    "def rule2(model):\n",
    "  return model.x1 + model.x2 + model.x5 + model.x6 + model.x7 >= 13\n",
    "model.eq2 = pyomo.Constraint(rule = rule2, doc = 'Tuesday requirement');\n",
    "\n",
    "def rule3(model):\n",
    "  return model.x1 + model.x2 + model.x3 + model.x6 + model.x7 >= 15\n",
    "model.eq3 = pyomo.Constraint(rule = rule3, doc = 'Wednesday requirement');\n",
    "\n",
    "def rule4(model):\n",
    "  return model.x1 + model.x2 + model.x3 + model.x4 + model.x7 >= 19\n",
    "model.eq4 = pyomo.Constraint(rule = rule4, doc = 'Thursday requirement');\n",
    "\n",
    "def rule5(model):\n",
    "  return model.x1 + model.x2 + model.x3 + model.x4 + model.x5 >= 14\n",
    "model.eq5 = pyomo.Constraint(rule = rule5, doc = 'Friday requirement');\n",
    "\n",
    "def rule6(model):\n",
    "  return model.x2 + model.x3 + model.x4 + model.x5 + model.x6 >= 16\n",
    "model.eq6 = pyomo.Constraint(rule = rule6, doc = 'Saturday requirement');\n",
    "\n",
    "def rule7(model):\n",
    "  return model.x3 + model.x4 + model.x5 + model.x6 + model.x7 >= 11\n",
    "model.eq7 = pyomo.Constraint(rule = rule7, doc = 'Sunday requirement');\n",
    "\n",
    "def rule8(model):\n",
    "  return model.x1 >= 0\n",
    "model.eq8 = pyomo.Constraint(rule = rule8, doc = 'Non neg for Monday');\n",
    "\n",
    "def rule9(model):\n",
    "  return model.x2 >= 0\n",
    "model.eq9 = pyomo.Constraint(rule = rule9, doc = 'Non neg for Tuesday');\n",
    "\n",
    "def rule10(model):\n",
    "  return model.x3 >= 0\n",
    "model.eq10 = pyomo.Constraint(rule = rule10, doc = 'Non neg for Wednesday');\n",
    "\n",
    "def rule11(model):\n",
    "  return model.x4 >= 0\n",
    "model.eq11 = pyomo.Constraint(rule = rule11, doc = 'Non neg for Thursday');\n",
    "\n",
    "def rule12(model):\n",
    "  return model.x5 >= 0\n",
    "model.eq12 = pyomo.Constraint(rule = rule12, doc = 'Non neg for Friday');\n",
    "\n",
    "def rule13(model):\n",
    "  return model.x6 >= 0\n",
    "model.eq13 = pyomo.Constraint(rule = rule13, doc = 'Non neg for Saturday');\n",
    "\n",
    "def rule14(model):\n",
    "  return model.x7 >= 0\n",
    "model.eq14 = pyomo.Constraint(rule = rule14, doc = 'Non neg for Sunday');\n",
    "\n",
    "# Solver options\n",
    "results = pyomo.SolverFactory('glpk',executable='/usr/bin/glpsol').solve(model)\n",
    "\n",
    "# Printing results\n",
    "results.write();\n",
    "print(\"\\n RESULTS \\n\");\n",
    "print(\"Optimal number of workers = \",model.obj());\n",
    "\n",
    "print(\"Number of workers starting on Monday\",model.x1());\n",
    "print(\"Number of workers starting on Tuesday\",model.x2());\n",
    "print(\"Number of workers starting on Wednesday\",model.x3());\n",
    "print(\"Number of workers starting on Thursday\",model.x4());\n",
    "print(\"Number of workers starting on Friday\",model.x5());\n",
    "print(\"Number of workers starting on Saturday\",model.x6());\n",
    "print(\"Number of workers starting on Sunday\",model.x7());"
   ]
  },
  {
   "cell_type": "markdown",
   "metadata": {
    "id": "H5PPIb0X5rv5"
   },
   "source": [
    "# Example 3 - The Dorian auto advertisement campaign revisited - with set definitions"
   ]
  },
  {
   "cell_type": "code",
   "execution_count": 4,
   "metadata": {
    "colab": {
     "base_uri": "https://localhost:8080/"
    },
    "executionInfo": {
     "elapsed": 203,
     "status": "ok",
     "timestamp": 1623647216855,
     "user": {
      "displayName": "Sanjula Kammammettu",
      "photoUrl": "https://lh3.googleusercontent.com/a-/AOh14GhmhfBZAvyfElb-m6c0xTZ9G1AjiRn4bq9-bJHT=s64",
      "userId": "15899802441883618062"
     },
     "user_tz": 360
    },
    "id": "42iKLPj05yBZ",
    "outputId": "72a56144-9590-4877-ba6a-b6f197c5a0a2"
   },
   "outputs": [
    {
     "name": "stdout",
     "output_type": "stream",
     "text": [
      "# ==========================================================\n",
      "# = Solver Results                                         =\n",
      "# ==========================================================\n",
      "# ----------------------------------------------------------\n",
      "#   Problem Information\n",
      "# ----------------------------------------------------------\n",
      "Problem: \n",
      "- Name: unknown\n",
      "  Lower bound: 320.0\n",
      "  Upper bound: 320.0\n",
      "  Number of objectives: 1\n",
      "  Number of constraints: 3\n",
      "  Number of variables: 3\n",
      "  Number of nonzeros: 5\n",
      "  Sense: minimize\n",
      "# ----------------------------------------------------------\n",
      "#   Solver Information\n",
      "# ----------------------------------------------------------\n",
      "Solver: \n",
      "- Status: ok\n",
      "  Termination condition: optimal\n",
      "  Statistics: \n",
      "    Branch and bound: \n",
      "      Number of bounded subproblems: 0\n",
      "      Number of created subproblems: 0\n",
      "  Error rc: 0\n",
      "  Time: 0.01804518699645996\n",
      "# ----------------------------------------------------------\n",
      "#   Solution Information\n",
      "# ----------------------------------------------------------\n",
      "Solution: \n",
      "- number of solutions: 0\n",
      "  number of solutions displayed: 0\n",
      "\n",
      " RESULTS \n",
      "\n",
      "Cost of advertisement campaign =  320.0\n",
      "Number of comedy ads purchased =  3.6\n",
      "Number of football ads purchased =  1.4\n"
     ]
    }
   ],
   "source": [
    "# Model definition\n",
    "model = pyomo.ConcreteModel();\n",
    "\n",
    "# Set declaration\n",
    "model.c = pyomo.Set(initialize = ['HIW','HIM']);\n",
    "model.a = pyomo.Set(initialize = ['comedy','football']);\n",
    "\n",
    "# Variable declaration\n",
    "model.x = pyomo.Var(model.a);\n",
    "\n",
    "# Parameter declaration\n",
    "model.theta = pyomo.Param(model.a,initialize = {'comedy':50,'football':100});\n",
    "\n",
    "model.mu = pyomo.Param(model.a,model.c,\n",
    "                       initialize = {('comedy','HIW'):7,('comedy','HIM'):2,\n",
    "                                     ('football','HIW'):2,('football','HIM'):12});\n",
    "\n",
    "model.alpha = pyomo.Param(model.c,initialize = {'HIW':28,'HIM':24});\n",
    "\n",
    "# Objective function definition\n",
    "model.obj = pyomo.Objective(expr = sum(model.theta[a]*model.x[a] for a in model.a),\n",
    "                            sense = pyomo.minimize);\n",
    "\n",
    "# Constraint definition\n",
    "def rule1(model,c):\n",
    "  return sum(model.mu[a,c]*model.x[a] for a in model.a) >= model.alpha[c]\n",
    "model.eq1 = pyomo.Constraint(model.c,rule = rule1, doc = 'Viewership requirement');\n",
    "\n",
    "# Solver options\n",
    "results = pyomo.SolverFactory('glpk',executable = '/usr/bin/glpsol').solve(model);\n",
    "\n",
    "# Printing results\n",
    "results.write()\n",
    "print(\"\\n RESULTS \\n\");\n",
    "print(\"Cost of advertisement campaign = \",model.obj());\n",
    "\n",
    "print(\"Number of comedy ads purchased = \",model.x['comedy']());\n",
    "print(\"Number of football ads purchased = \",model.x['football']());\n"
   ]
  }
 ],
 "metadata": {
  "colab": {
   "collapsed_sections": [],
   "name": "Pyomo_Book1_LP.ipynb",
   "provenance": []
  },
  "kernelspec": {
   "display_name": "Python 3 (ipykernel)",
   "language": "python",
   "name": "python3"
  },
  "language_info": {
   "codemirror_mode": {
    "name": "ipython",
    "version": 3
   },
   "file_extension": ".py",
   "mimetype": "text/x-python",
   "name": "python",
   "nbconvert_exporter": "python",
   "pygments_lexer": "ipython3",
   "version": "3.10.4"
  }
 },
 "nbformat": 4,
 "nbformat_minor": 4
}
