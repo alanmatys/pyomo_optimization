{
 "cells": [
  {
   "cell_type": "markdown",
   "metadata": {},
   "source": [
    "# Non Linear Programing (NLP)\n",
    "\n",
    "Same structure as Linear Programing (LP) but with the difference that:\n",
    "\n",
    "$ minf(x)$\n",
    "\n",
    "subject to\n",
    "\n",
    "$ h(x) = 0 $\n",
    "\n",
    "$ g(x) <= 0 $\n",
    "\n",
    "- **The main difference is that f,h or g are non linear**\n",
    "- x is all continuous variable"
   ]
  },
  {
   "cell_type": "markdown",
   "metadata": {},
   "source": [
    "## Example 1\n",
    "\n",
    "consider the nonlinear regression problem using the data x and y, where *y* is the dependent variable and *x* is the independent variable\n",
    "\n",
    "- 6 observations/data points are avilable fot this regression model.\n",
    "\n",
    "- The required model structure is $y= b_1 + b_2e^{b_3x}$\n",
    "\n",
    "|y          |x         |\n",
    "|-----------|----------|\n",
    "|127        |-5        |\n",
    "|151        |-3        |\n",
    "|379        |-1        |\n",
    "|421        |5         |\n",
    "|460        |3         |\n",
    "|426        |1         |\n",
    "\n",
    "\n",
    "**OBJ: Find the optimal values of regression coefficients $b_1,b_2, b_3$**"
   ]
  },
  {
   "cell_type": "code",
   "execution_count": null,
   "metadata": {},
   "outputs": [],
   "source": []
  }
 ],
 "metadata": {
  "language_info": {
   "name": "python"
  },
  "orig_nbformat": 4
 },
 "nbformat": 4,
 "nbformat_minor": 2
}
