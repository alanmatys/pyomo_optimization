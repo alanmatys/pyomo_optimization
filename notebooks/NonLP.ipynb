{
 "cells": [
  {
   "cell_type": "markdown",
   "metadata": {},
   "source": [
    "# Non Linear Programing (NLP)\n",
    "\n",
    "Same structure as Linear Programing (LP) but with the difference that:\n",
    "\n",
    "$ minf(x)$\n",
    "\n",
    "subject to\n",
    "\n",
    "$ h(x) = 0 $\n",
    "\n",
    "$ g(x) <= 0 $\n",
    "\n",
    "- **The main difference is that f,h or g are non linear**\n",
    "- x is all continuous variable"
   ]
  },
  {
   "cell_type": "markdown",
   "metadata": {},
   "source": [
    "## Example 1\n",
    "\n",
    "consider the nonlinear regression problem using the data x and y, where *y* is the dependent variable and *x* is the independent variable\n",
    "\n",
    "- 6 observations/data points are avilable fot this regression model.\n",
    "\n",
    "- The required model structure is $y= b_1 + b_2e^{b_3x}$\n",
    "\n",
    "|y          |x         |\n",
    "|-----------|----------|\n",
    "|127        |-5        |\n",
    "|151        |-3        |\n",
    "|379        |-1        |\n",
    "|421        |5         |\n",
    "|460        |3         |\n",
    "|426        |1         |\n",
    "\n",
    "\n",
    "**OBJ: Find the optimal values of regression coefficients $b_1,b_2, b_3$**\n",
    "\n",
    "**Example Linear Regresion approach**\n",
    "\n",
    "- Solve using 'least squares' regression approach gives the optimization model the following function:\n",
    "\n",
    "$$min \\sum_{i=1}(y_i-(a_1+a_2x_i))^2 \\forall i \\in m$$\n",
    "\n",
    "**m** are all the data points\n",
    "\n",
    "## Example 1 - proposed nonlinear regression approach\n",
    "\n",
    "- Solve using 'least squares' regression approach gives:\n",
    "\n",
    "$$min \\sum_{i=1}(y_i-(b_1+b_2e^{b_3x}))^2 \\forall i \\in m$$\n",
    "\n",
    "- Given bounds on the coefficients:\n",
    "    - $-5 \\leq b_3 \\leq 5$\n",
    "\n",
    "#### Important: On non linear optimization the solution dependes HEAVILY on the starting point or initial solution, ITS IMPORTANT TO PROVE A GOOD FEASIBLE SOLUTION TO THE SOLVER"
   ]
  },
  {
   "cell_type": "code",
   "execution_count": 1,
   "metadata": {},
   "outputs": [
    {
     "name": "stdout",
     "output_type": "stream",
     "text": [
      "WARNING: Could not locate the 'ipopt' executable, which is required for solver\n",
      "    ipopt\n"
     ]
    },
    {
     "ename": "ApplicationError",
     "evalue": "No executable found for solver 'ipopt'",
     "output_type": "error",
     "traceback": [
      "\u001b[1;31m---------------------------------------------------------------------------\u001b[0m",
      "\u001b[1;31mApplicationError\u001b[0m                          Traceback (most recent call last)",
      "\u001b[1;32mc:\\Udemy\\Optimizacion\\repo\\pyomo_optimization\\notebooks\\NonLP.ipynb Cell 3\u001b[0m in \u001b[0;36m<cell line: 38>\u001b[1;34m()\u001b[0m\n\u001b[0;32m     <a href='vscode-notebook-cell:/c%3A/Udemy/Optimizacion/repo/pyomo_optimization/notebooks/NonLP.ipynb#W2sZmlsZQ%3D%3D?line=31'>32</a>\u001b[0m model_nonlinear\u001b[39m.\u001b[39mobj \u001b[39m=\u001b[39m pyomo\u001b[39m.\u001b[39mObjective(expr \u001b[39m=\u001b[39m \u001b[39msum\u001b[39m((model_nonlinear\u001b[39m.\u001b[39mdatapoints_y[m] \u001b[39m-\u001b[39m \n\u001b[0;32m     <a href='vscode-notebook-cell:/c%3A/Udemy/Optimizacion/repo/pyomo_optimization/notebooks/NonLP.ipynb#W2sZmlsZQ%3D%3D?line=32'>33</a>\u001b[0m                                                (model_nonlinear\u001b[39m.\u001b[39mb1 \u001b[39m+\u001b[39m model_nonlinear\u001b[39m.\u001b[39mb2\u001b[39m*\u001b[39mpyomo\u001b[39m.\u001b[39mexp(model_nonlinear\u001b[39m.\u001b[39mb3\u001b[39m*\u001b[39mmodel_nonlinear\u001b[39m.\u001b[39mdatapoints_x[m])))\u001b[39m*\u001b[39m\u001b[39m*\u001b[39m\u001b[39m2\u001b[39m \n\u001b[0;32m     <a href='vscode-notebook-cell:/c%3A/Udemy/Optimizacion/repo/pyomo_optimization/notebooks/NonLP.ipynb#W2sZmlsZQ%3D%3D?line=33'>34</a>\u001b[0m                                               \u001b[39mfor\u001b[39;00m m \u001b[39min\u001b[39;00m model_nonlinear\u001b[39m.\u001b[39mm),sense \u001b[39m=\u001b[39m pyomo\u001b[39m.\u001b[39mminimize);\n\u001b[0;32m     <a href='vscode-notebook-cell:/c%3A/Udemy/Optimizacion/repo/pyomo_optimization/notebooks/NonLP.ipynb#W2sZmlsZQ%3D%3D?line=35'>36</a>\u001b[0m \u001b[39m# Solver options\u001b[39;00m\n\u001b[1;32m---> <a href='vscode-notebook-cell:/c%3A/Udemy/Optimizacion/repo/pyomo_optimization/notebooks/NonLP.ipynb#W2sZmlsZQ%3D%3D?line=37'>38</a>\u001b[0m results \u001b[39m=\u001b[39m pyomo\u001b[39m.\u001b[39;49mSolverFactory(\u001b[39m'\u001b[39;49m\u001b[39mipopt\u001b[39;49m\u001b[39m'\u001b[39;49m)\u001b[39m.\u001b[39;49msolve(model_linear);\n\u001b[0;32m     <a href='vscode-notebook-cell:/c%3A/Udemy/Optimizacion/repo/pyomo_optimization/notebooks/NonLP.ipynb#W2sZmlsZQ%3D%3D?line=39'>40</a>\u001b[0m results\u001b[39m.\u001b[39mwrite()\n\u001b[0;32m     <a href='vscode-notebook-cell:/c%3A/Udemy/Optimizacion/repo/pyomo_optimization/notebooks/NonLP.ipynb#W2sZmlsZQ%3D%3D?line=40'>41</a>\u001b[0m \u001b[39mprint\u001b[39m(\u001b[39m\"\u001b[39m\u001b[39m\\n\u001b[39;00m\u001b[39m RESULTS \u001b[39m\u001b[39m\\n\u001b[39;00m\u001b[39m\"\u001b[39m);\n",
      "File \u001b[1;32mc:\\Users\\alan.matys\\Miniconda3\\envs\\optimization\\lib\\site-packages\\pyomo\\opt\\base\\solvers.py:513\u001b[0m, in \u001b[0;36mOptSolver.solve\u001b[1;34m(self, *args, **kwds)\u001b[0m\n\u001b[0;32m    510\u001b[0m \u001b[39mdef\u001b[39;00m \u001b[39msolve\u001b[39m(\u001b[39mself\u001b[39m, \u001b[39m*\u001b[39margs, \u001b[39m*\u001b[39m\u001b[39m*\u001b[39mkwds):\n\u001b[0;32m    511\u001b[0m     \u001b[39m\"\"\" Solve the problem \"\"\"\u001b[39;00m\n\u001b[1;32m--> 513\u001b[0m     \u001b[39mself\u001b[39;49m\u001b[39m.\u001b[39;49mavailable(exception_flag\u001b[39m=\u001b[39;49m\u001b[39mTrue\u001b[39;49;00m)\n\u001b[0;32m    514\u001b[0m     \u001b[39m#\u001b[39;00m\n\u001b[0;32m    515\u001b[0m     \u001b[39m# If the inputs are models, then validate that they have been\u001b[39;00m\n\u001b[0;32m    516\u001b[0m     \u001b[39m# constructed! Collect suffix names to try and import from solution.\u001b[39;00m\n\u001b[0;32m    517\u001b[0m     \u001b[39m#\u001b[39;00m\n\u001b[0;32m    518\u001b[0m     \u001b[39mfrom\u001b[39;00m \u001b[39mpyomo\u001b[39;00m\u001b[39m.\u001b[39;00m\u001b[39mcore\u001b[39;00m\u001b[39m.\u001b[39;00m\u001b[39mbase\u001b[39;00m\u001b[39m.\u001b[39;00m\u001b[39mblock\u001b[39;00m \u001b[39mimport\u001b[39;00m _BlockData\n",
      "File \u001b[1;32mc:\\Users\\alan.matys\\Miniconda3\\envs\\optimization\\lib\\site-packages\\pyomo\\opt\\solver\\shellcmd.py:129\u001b[0m, in \u001b[0;36mSystemCallSolver.available\u001b[1;34m(self, exception_flag)\u001b[0m\n\u001b[0;32m    127\u001b[0m     \u001b[39mif\u001b[39;00m exception_flag:\n\u001b[0;32m    128\u001b[0m         msg \u001b[39m=\u001b[39m \u001b[39m\"\u001b[39m\u001b[39mNo executable found for solver \u001b[39m\u001b[39m'\u001b[39m\u001b[39m%s\u001b[39;00m\u001b[39m'\u001b[39m\u001b[39m\"\u001b[39m\n\u001b[1;32m--> 129\u001b[0m         \u001b[39mraise\u001b[39;00m ApplicationError(msg \u001b[39m%\u001b[39m \u001b[39mself\u001b[39m\u001b[39m.\u001b[39mname)\n\u001b[0;32m    130\u001b[0m     \u001b[39mreturn\u001b[39;00m \u001b[39mFalse\u001b[39;00m\n\u001b[0;32m    131\u001b[0m \u001b[39mreturn\u001b[39;00m \u001b[39mTrue\u001b[39;00m\n",
      "\u001b[1;31mApplicationError\u001b[0m: No executable found for solver 'ipopt'"
     ]
    }
   ],
   "source": [
    "import pyomo.environ as pyomo\n",
    "import numpy as np\n",
    "\n",
    "# Model definition\n",
    "model_linear = pyomo.ConcreteModel();\n",
    "model_nonlinear = pyomo.ConcreteModel();\n",
    "\n",
    "# Set declaration, Defina a sequence of nuemeric elements\n",
    "model_linear.m = pyomo.RangeSet(6);\n",
    "model_nonlinear.m = pyomo.RangeSet(6);\n",
    "\n",
    "# Variable definition FOR THE LINEAR MODEL\n",
    "model_linear.a1 = pyomo.Var(domain=pyomo.Reals);\n",
    "model_linear.a2 = pyomo.Var(domain=pyomo.Reals);\n",
    "\n",
    "# Variable definition FOR THE NON LINEAR MODEL\n",
    "model_nonlinear.b1 = pyomo.Var(domain=pyomo.Reals, initialize = 500);\n",
    "model_nonlinear.b2 = pyomo.Var(domain=pyomo.Reals, initialize = -150);\n",
    "model_nonlinear.b3 = pyomo.Var(domain=pyomo.Reals, initialize = -0.2,bounds = (-5,5));\n",
    "\n",
    "# Using inicialize we start the variables on the predefined starting points on the optimization\n",
    "model_linear.datapoints_y = pyomo.Param(model_linear.m,initialize = {1:127,2:151,3:379,4:421,5:460,6:426});\n",
    "model_linear.datapoints_x = pyomo.Param(model_linear.m,initialize = {1:-5,2:-3,3:-1,4:5,5:3,6:1});\n",
    "\n",
    "model_nonlinear.datapoints_y = pyomo.Param(model_nonlinear.m,initialize = {1:127,2:151,3:379,4:421,5:460,6:426});\n",
    "model_nonlinear.datapoints_x = pyomo.Param(model_nonlinear.m,initialize = {1:-5,2:-3,3:-1,4:5,5:3,6:1});\n",
    "\n",
    "# Objective functions\n",
    "model_linear.obj = pyomo.Objective(expr = sum((model_linear.datapoints_y[m] - \n",
    "                                               (model_linear.a1 + model_linear.a2*model_linear.datapoints_x[m]))**2 \n",
    "                                              for m in model_linear.m),sense = pyomo.minimize);\n",
    "model_nonlinear.obj = pyomo.Objective(expr = sum((model_nonlinear.datapoints_y[m] - \n",
    "                                               (model_nonlinear.b1 + model_nonlinear.b2*pyomo.exp(model_nonlinear.b3*model_nonlinear.datapoints_x[m])))**2 \n",
    "                                              for m in model_nonlinear.m),sense = pyomo.minimize);\n",
    "\n",
    "# Solver options\n",
    "\n",
    "results = pyomo.SolverFactory('ipopt').solve(model_linear);\n",
    "\n",
    "results.write()\n",
    "print(\"\\n RESULTS \\n\");\n",
    "print(\"Squared deviation for linear regression model = \",model_linear.obj());\n",
    "print(\"Coefficient 1 for linear regression (a1) = \",model_linear.a1());\n",
    "print(\"Coefficient 2 for linear regression (a2) = \",model_linear.a2());\n",
    "\n",
    "results = pyomo.SolverFactory('ipopt',executable = '/content/ipopt').solve(model_nonlinear);\n",
    "\n",
    "results.write()\n",
    "print(\"\\n RESULTS \\n\");\n",
    "print(\"Squared deviation for nonlinear regression model = \",model_nonlinear.obj());\n",
    "print(\"Coefficient 1 for nonlinear regression (b1) = \",model_nonlinear.b1());\n",
    "print(\"Coefficient 2 for nonlinear regression (b2) = \",model_nonlinear.b2());\n",
    "print(\"Coefficient 3 for nonlinear regression (b3) = \",model_nonlinear.b3());"
   ]
  }
 ],
 "metadata": {
  "kernelspec": {
   "display_name": "optimization",
   "language": "python",
   "name": "python3"
  },
  "language_info": {
   "codemirror_mode": {
    "name": "ipython",
    "version": 3
   },
   "file_extension": ".py",
   "mimetype": "text/x-python",
   "name": "python",
   "nbconvert_exporter": "python",
   "pygments_lexer": "ipython3",
   "version": "3.10.4"
  },
  "orig_nbformat": 4
 },
 "nbformat": 4,
 "nbformat_minor": 2
}
